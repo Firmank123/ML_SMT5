{
  "nbformat": 4,
  "nbformat_minor": 0,
  "metadata": {
    "colab": {
      "provenance": [],
      "mount_file_id": "1s6odhfRmPKUPBX_5N4Q45qbJpMIONlji",
      "authorship_tag": "ABX9TyPfWfOR4HtAwE1OCGoL/PRb",
      "include_colab_link": true
    },
    "kernelspec": {
      "name": "python3",
      "display_name": "Python 3"
    },
    "language_info": {
      "name": "python"
    }
  },
  "cells": [
    {
      "cell_type": "markdown",
      "metadata": {
        "id": "view-in-github",
        "colab_type": "text"
      },
      "source": [
        "<a href=\"https://colab.research.google.com/github/Firmank123/ML_SMT5/blob/main/2341720099_M_Firmansyah_Quiz1_ML.ipynb\" target=\"_parent\"><img src=\"https://colab.research.google.com/assets/colab-badge.svg\" alt=\"Open In Colab\"/></a>"
      ]
    },
    {
      "cell_type": "code",
      "execution_count": null,
      "metadata": {
        "id": "M6uNabBILCed"
      },
      "outputs": [],
      "source": []
    }
  ]
}